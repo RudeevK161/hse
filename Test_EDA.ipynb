{
 "cells": [
  {
   "cell_type": "code",
   "execution_count": 1,
   "id": "34cff5b1",
   "metadata": {},
   "outputs": [],
   "source": [
    "import pandas as pd\n",
    "import numpy as np"
   ]
  },
  {
   "cell_type": "code",
   "execution_count": 4,
   "id": "47faf41a",
   "metadata": {},
   "outputs": [
    {
     "data": {
      "text/html": [
       "<div>\n",
       "<style scoped>\n",
       "    .dataframe tbody tr th:only-of-type {\n",
       "        vertical-align: middle;\n",
       "    }\n",
       "\n",
       "    .dataframe tbody tr th {\n",
       "        vertical-align: top;\n",
       "    }\n",
       "\n",
       "    .dataframe thead th {\n",
       "        text-align: right;\n",
       "    }\n",
       "</style>\n",
       "<table border=\"1\" class=\"dataframe\">\n",
       "  <thead>\n",
       "    <tr style=\"text-align: right;\">\n",
       "      <th></th>\n",
       "      <th>name</th>\n",
       "      <th>author</th>\n",
       "      <th>link</th>\n",
       "      <th>rating</th>\n",
       "      <th>rating_count</th>\n",
       "      <th>review_count</th>\n",
       "      <th>price</th>\n",
       "      <th>pages</th>\n",
       "      <th>pages_count</th>\n",
       "      <th>text_of_reviews</th>\n",
       "      <th>age</th>\n",
       "      <th>year</th>\n",
       "    </tr>\n",
       "  </thead>\n",
       "  <tbody>\n",
       "    <tr>\n",
       "      <th>0</th>\n",
       "      <td>Нейросети начало</td>\n",
       "      <td>Джейд Картер</td>\n",
       "      <td>https://www.litres.ru/book/dzheyd-karter/neyro...</td>\n",
       "      <td>4.9</td>\n",
       "      <td>433</td>\n",
       "      <td>37</td>\n",
       "      <td>690.0</td>\n",
       "      <td>102 стр. 4 иллюстрации</td>\n",
       "      <td>102</td>\n",
       "      <td>['Книга отличная. Давно хотела понять как все ...</td>\n",
       "      <td>12+</td>\n",
       "      <td>2023</td>\n",
       "    </tr>\n",
       "    <tr>\n",
       "      <th>1</th>\n",
       "      <td>Python 3 и PyQt 6. Разработка приложений</td>\n",
       "      <td>Николай Прохоренок</td>\n",
       "      <td>https://www.litres.ru/book/vladimir-dronov/pyt...</td>\n",
       "      <td>4.7</td>\n",
       "      <td>3</td>\n",
       "      <td>1</td>\n",
       "      <td>549.0</td>\n",
       "      <td>831 стр.</td>\n",
       "      <td>831</td>\n",
       "      <td>['Большая книга, посвященная реализации графич...</td>\n",
       "      <td>0+</td>\n",
       "      <td>2023</td>\n",
       "    </tr>\n",
       "    <tr>\n",
       "      <th>2</th>\n",
       "      <td>Система взаимодействия. Коммуникации в бизнес-...</td>\n",
       "      <td>Е. Ю. Хрусталева</td>\n",
       "      <td>https://www.litres.ru/book/e-u-hrustaleva/sist...</td>\n",
       "      <td>4.3</td>\n",
       "      <td>10</td>\n",
       "      <td>3</td>\n",
       "      <td>250.0</td>\n",
       "      <td>130 стр.</td>\n",
       "      <td>130</td>\n",
       "      <td>['Полезная книга. Есть примеры оповещения поль...</td>\n",
       "      <td>12+</td>\n",
       "      <td>2019</td>\n",
       "    </tr>\n",
       "    <tr>\n",
       "      <th>3</th>\n",
       "      <td>Постановка задачи обеспечения автоматизации по...</td>\n",
       "      <td>О. В. Тиханычев</td>\n",
       "      <td>https://www.litres.ru/book/o-v-tihanychev/post...</td>\n",
       "      <td>0.0</td>\n",
       "      <td>0</td>\n",
       "      <td>0</td>\n",
       "      <td>168.0</td>\n",
       "      <td>10 стр.</td>\n",
       "      <td>10</td>\n",
       "      <td>[]</td>\n",
       "      <td>0+</td>\n",
       "      <td>2021</td>\n",
       "    </tr>\n",
       "    <tr>\n",
       "      <th>4</th>\n",
       "      <td>Разработка и реализация портальных решений. Пр...</td>\n",
       "      <td>С. В. Маркова</td>\n",
       "      <td>https://www.litres.ru/book/pavel-lukyanov/razr...</td>\n",
       "      <td>0.0</td>\n",
       "      <td>0</td>\n",
       "      <td>0</td>\n",
       "      <td>350.0</td>\n",
       "      <td>166 стр.</td>\n",
       "      <td>166</td>\n",
       "      <td>[]</td>\n",
       "      <td>0+</td>\n",
       "      <td>2020</td>\n",
       "    </tr>\n",
       "    <tr>\n",
       "      <th>...</th>\n",
       "      <td>...</td>\n",
       "      <td>...</td>\n",
       "      <td>...</td>\n",
       "      <td>...</td>\n",
       "      <td>...</td>\n",
       "      <td>...</td>\n",
       "      <td>...</td>\n",
       "      <td>...</td>\n",
       "      <td>...</td>\n",
       "      <td>...</td>\n",
       "      <td>...</td>\n",
       "      <td>...</td>\n",
       "    </tr>\n",
       "    <tr>\n",
       "      <th>960</th>\n",
       "      <td>Основы вычислений и программирования в пакете ...</td>\n",
       "      <td>а. ф. задорожный</td>\n",
       "      <td>https://www.litres.ru/book/a-f-zadorozhnyy/osn...</td>\n",
       "      <td>0.0</td>\n",
       "      <td>0</td>\n",
       "      <td>0</td>\n",
       "      <td>676.0</td>\n",
       "      <td>223 стр.</td>\n",
       "      <td>223</td>\n",
       "      <td>[]</td>\n",
       "      <td>0+</td>\n",
       "      <td>2023</td>\n",
       "    </tr>\n",
       "    <tr>\n",
       "      <th>961</th>\n",
       "      <td>Справочник Жаркова по проектированию и програм...</td>\n",
       "      <td>Валерий Алексеевич Жарков</td>\n",
       "      <td>https://www.litres.ru/book/valeriy-zharkov-324...</td>\n",
       "      <td>0.0</td>\n",
       "      <td>0</td>\n",
       "      <td>0</td>\n",
       "      <td>990.0</td>\n",
       "      <td>345 стр. 93 иллюстрации</td>\n",
       "      <td>345</td>\n",
       "      <td>[]</td>\n",
       "      <td>12+</td>\n",
       "      <td>2023</td>\n",
       "    </tr>\n",
       "    <tr>\n",
       "      <th>962</th>\n",
       "      <td>Применение компьютерных систем моделирования т...</td>\n",
       "      <td>П. А. Кулагин</td>\n",
       "      <td>https://www.litres.ru/book/a-v-mischenko/prime...</td>\n",
       "      <td>0.0</td>\n",
       "      <td>0</td>\n",
       "      <td>0</td>\n",
       "      <td>168.0</td>\n",
       "      <td>16 стр.</td>\n",
       "      <td>16</td>\n",
       "      <td>[]</td>\n",
       "      <td>0+</td>\n",
       "      <td>2017</td>\n",
       "    </tr>\n",
       "    <tr>\n",
       "      <th>963</th>\n",
       "      <td>Основы TypeScript (pdf+epub)</td>\n",
       "      <td>Адам Фримен</td>\n",
       "      <td>https://www.litres.ru/book/adam-frimen/osnovy-...</td>\n",
       "      <td>0.0</td>\n",
       "      <td>0</td>\n",
       "      <td>0</td>\n",
       "      <td>699.0</td>\n",
       "      <td>576 стр.</td>\n",
       "      <td>576</td>\n",
       "      <td>[]</td>\n",
       "      <td>16+</td>\n",
       "      <td>2023</td>\n",
       "    </tr>\n",
       "    <tr>\n",
       "      <th>964</th>\n",
       "      <td>Идентификация типа файла на основе структурног...</td>\n",
       "      <td>А. С. Федулов</td>\n",
       "      <td>https://www.litres.ru/book/a-e-antonov/identif...</td>\n",
       "      <td>0.0</td>\n",
       "      <td>0</td>\n",
       "      <td>0</td>\n",
       "      <td>96.0</td>\n",
       "      <td>10 стр.</td>\n",
       "      <td>10</td>\n",
       "      <td>[]</td>\n",
       "      <td>0+</td>\n",
       "      <td>2013</td>\n",
       "    </tr>\n",
       "  </tbody>\n",
       "</table>\n",
       "<p>965 rows × 12 columns</p>\n",
       "</div>"
      ],
      "text/plain": [
       "                                                  name  \\\n",
       "0                                     Нейросети начало   \n",
       "1             Python 3 и PyQt 6. Разработка приложений   \n",
       "2    Система взаимодействия. Коммуникации в бизнес-...   \n",
       "3    Постановка задачи обеспечения автоматизации по...   \n",
       "4    Разработка и реализация портальных решений. Пр...   \n",
       "..                                                 ...   \n",
       "960  Основы вычислений и программирования в пакете ...   \n",
       "961  Справочник Жаркова по проектированию и програм...   \n",
       "962  Применение компьютерных систем моделирования т...   \n",
       "963                       Основы TypeScript (pdf+epub)   \n",
       "964  Идентификация типа файла на основе структурног...   \n",
       "\n",
       "                        author  \\\n",
       "0                 Джейд Картер   \n",
       "1           Николай Прохоренок   \n",
       "2             Е. Ю. Хрусталева   \n",
       "3              О. В. Тиханычев   \n",
       "4                С. В. Маркова   \n",
       "..                         ...   \n",
       "960           а. ф. задорожный   \n",
       "961  Валерий Алексеевич Жарков   \n",
       "962              П. А. Кулагин   \n",
       "963                Адам Фримен   \n",
       "964              А. С. Федулов   \n",
       "\n",
       "                                                  link  rating  rating_count  \\\n",
       "0    https://www.litres.ru/book/dzheyd-karter/neyro...     4.9           433   \n",
       "1    https://www.litres.ru/book/vladimir-dronov/pyt...     4.7             3   \n",
       "2    https://www.litres.ru/book/e-u-hrustaleva/sist...     4.3            10   \n",
       "3    https://www.litres.ru/book/o-v-tihanychev/post...     0.0             0   \n",
       "4    https://www.litres.ru/book/pavel-lukyanov/razr...     0.0             0   \n",
       "..                                                 ...     ...           ...   \n",
       "960  https://www.litres.ru/book/a-f-zadorozhnyy/osn...     0.0             0   \n",
       "961  https://www.litres.ru/book/valeriy-zharkov-324...     0.0             0   \n",
       "962  https://www.litres.ru/book/a-v-mischenko/prime...     0.0             0   \n",
       "963  https://www.litres.ru/book/adam-frimen/osnovy-...     0.0             0   \n",
       "964  https://www.litres.ru/book/a-e-antonov/identif...     0.0             0   \n",
       "\n",
       "     review_count  price                    pages  pages_count  \\\n",
       "0              37  690.0   102 стр. 4 иллюстрации          102   \n",
       "1               1  549.0                831 стр.           831   \n",
       "2               3  250.0                130 стр.           130   \n",
       "3               0  168.0                 10 стр.            10   \n",
       "4               0  350.0                166 стр.           166   \n",
       "..            ...    ...                      ...          ...   \n",
       "960             0  676.0                223 стр.           223   \n",
       "961             0  990.0  345 стр. 93 иллюстрации          345   \n",
       "962             0  168.0                 16 стр.            16   \n",
       "963             0  699.0                576 стр.           576   \n",
       "964             0   96.0                 10 стр.            10   \n",
       "\n",
       "                                       text_of_reviews  age  year  \n",
       "0    ['Книга отличная. Давно хотела понять как все ...  12+  2023  \n",
       "1    ['Большая книга, посвященная реализации графич...   0+  2023  \n",
       "2    ['Полезная книга. Есть примеры оповещения поль...  12+  2019  \n",
       "3                                                   []   0+  2021  \n",
       "4                                                   []   0+  2020  \n",
       "..                                                 ...  ...   ...  \n",
       "960                                                 []   0+  2023  \n",
       "961                                                 []  12+  2023  \n",
       "962                                                 []   0+  2017  \n",
       "963                                                 []  16+  2023  \n",
       "964                                                 []   0+  2013  \n",
       "\n",
       "[965 rows x 12 columns]"
      ]
     },
     "execution_count": 4,
     "metadata": {},
     "output_type": "execute_result"
    }
   ],
   "source": [
    "df = pd.read_csv('litres_programming_data.csv').drop(['Unnamed: 0'], axis = 1)\n",
    "df"
   ]
  },
  {
   "cell_type": "markdown",
   "id": "d0edc6b8",
   "metadata": {},
   "source": [
    "### 1.Выведите первые 5 строк датасета. (0.25). Сколько в нём строк и столбцов (0.25)?"
   ]
  },
  {
   "cell_type": "code",
   "execution_count": 5,
   "id": "ef76076f",
   "metadata": {},
   "outputs": [
    {
     "data": {
      "text/html": [
       "<div>\n",
       "<style scoped>\n",
       "    .dataframe tbody tr th:only-of-type {\n",
       "        vertical-align: middle;\n",
       "    }\n",
       "\n",
       "    .dataframe tbody tr th {\n",
       "        vertical-align: top;\n",
       "    }\n",
       "\n",
       "    .dataframe thead th {\n",
       "        text-align: right;\n",
       "    }\n",
       "</style>\n",
       "<table border=\"1\" class=\"dataframe\">\n",
       "  <thead>\n",
       "    <tr style=\"text-align: right;\">\n",
       "      <th></th>\n",
       "      <th>name</th>\n",
       "      <th>author</th>\n",
       "      <th>link</th>\n",
       "      <th>rating</th>\n",
       "      <th>rating_count</th>\n",
       "      <th>review_count</th>\n",
       "      <th>price</th>\n",
       "      <th>pages</th>\n",
       "      <th>pages_count</th>\n",
       "      <th>text_of_reviews</th>\n",
       "      <th>age</th>\n",
       "      <th>year</th>\n",
       "    </tr>\n",
       "  </thead>\n",
       "  <tbody>\n",
       "    <tr>\n",
       "      <th>0</th>\n",
       "      <td>Нейросети начало</td>\n",
       "      <td>Джейд Картер</td>\n",
       "      <td>https://www.litres.ru/book/dzheyd-karter/neyro...</td>\n",
       "      <td>4.9</td>\n",
       "      <td>433</td>\n",
       "      <td>37</td>\n",
       "      <td>690.0</td>\n",
       "      <td>102 стр. 4 иллюстрации</td>\n",
       "      <td>102</td>\n",
       "      <td>['Книга отличная. Давно хотела понять как все ...</td>\n",
       "      <td>12+</td>\n",
       "      <td>2023</td>\n",
       "    </tr>\n",
       "    <tr>\n",
       "      <th>1</th>\n",
       "      <td>Python 3 и PyQt 6. Разработка приложений</td>\n",
       "      <td>Николай Прохоренок</td>\n",
       "      <td>https://www.litres.ru/book/vladimir-dronov/pyt...</td>\n",
       "      <td>4.7</td>\n",
       "      <td>3</td>\n",
       "      <td>1</td>\n",
       "      <td>549.0</td>\n",
       "      <td>831 стр.</td>\n",
       "      <td>831</td>\n",
       "      <td>['Большая книга, посвященная реализации графич...</td>\n",
       "      <td>0+</td>\n",
       "      <td>2023</td>\n",
       "    </tr>\n",
       "    <tr>\n",
       "      <th>2</th>\n",
       "      <td>Система взаимодействия. Коммуникации в бизнес-...</td>\n",
       "      <td>Е. Ю. Хрусталева</td>\n",
       "      <td>https://www.litres.ru/book/e-u-hrustaleva/sist...</td>\n",
       "      <td>4.3</td>\n",
       "      <td>10</td>\n",
       "      <td>3</td>\n",
       "      <td>250.0</td>\n",
       "      <td>130 стр.</td>\n",
       "      <td>130</td>\n",
       "      <td>['Полезная книга. Есть примеры оповещения поль...</td>\n",
       "      <td>12+</td>\n",
       "      <td>2019</td>\n",
       "    </tr>\n",
       "    <tr>\n",
       "      <th>3</th>\n",
       "      <td>Постановка задачи обеспечения автоматизации по...</td>\n",
       "      <td>О. В. Тиханычев</td>\n",
       "      <td>https://www.litres.ru/book/o-v-tihanychev/post...</td>\n",
       "      <td>0.0</td>\n",
       "      <td>0</td>\n",
       "      <td>0</td>\n",
       "      <td>168.0</td>\n",
       "      <td>10 стр.</td>\n",
       "      <td>10</td>\n",
       "      <td>[]</td>\n",
       "      <td>0+</td>\n",
       "      <td>2021</td>\n",
       "    </tr>\n",
       "    <tr>\n",
       "      <th>4</th>\n",
       "      <td>Разработка и реализация портальных решений. Пр...</td>\n",
       "      <td>С. В. Маркова</td>\n",
       "      <td>https://www.litres.ru/book/pavel-lukyanov/razr...</td>\n",
       "      <td>0.0</td>\n",
       "      <td>0</td>\n",
       "      <td>0</td>\n",
       "      <td>350.0</td>\n",
       "      <td>166 стр.</td>\n",
       "      <td>166</td>\n",
       "      <td>[]</td>\n",
       "      <td>0+</td>\n",
       "      <td>2020</td>\n",
       "    </tr>\n",
       "  </tbody>\n",
       "</table>\n",
       "</div>"
      ],
      "text/plain": [
       "                                                name              author  \\\n",
       "0                                   Нейросети начало        Джейд Картер   \n",
       "1           Python 3 и PyQt 6. Разработка приложений  Николай Прохоренок   \n",
       "2  Система взаимодействия. Коммуникации в бизнес-...    Е. Ю. Хрусталева   \n",
       "3  Постановка задачи обеспечения автоматизации по...     О. В. Тиханычев   \n",
       "4  Разработка и реализация портальных решений. Пр...       С. В. Маркова   \n",
       "\n",
       "                                                link  rating  rating_count  \\\n",
       "0  https://www.litres.ru/book/dzheyd-karter/neyro...     4.9           433   \n",
       "1  https://www.litres.ru/book/vladimir-dronov/pyt...     4.7             3   \n",
       "2  https://www.litres.ru/book/e-u-hrustaleva/sist...     4.3            10   \n",
       "3  https://www.litres.ru/book/o-v-tihanychev/post...     0.0             0   \n",
       "4  https://www.litres.ru/book/pavel-lukyanov/razr...     0.0             0   \n",
       "\n",
       "   review_count  price                   pages  pages_count  \\\n",
       "0            37  690.0  102 стр. 4 иллюстрации          102   \n",
       "1             1  549.0               831 стр.           831   \n",
       "2             3  250.0               130 стр.           130   \n",
       "3             0  168.0                10 стр.            10   \n",
       "4             0  350.0               166 стр.           166   \n",
       "\n",
       "                                     text_of_reviews  age  year  \n",
       "0  ['Книга отличная. Давно хотела понять как все ...  12+  2023  \n",
       "1  ['Большая книга, посвященная реализации графич...   0+  2023  \n",
       "2  ['Полезная книга. Есть примеры оповещения поль...  12+  2019  \n",
       "3                                                 []   0+  2021  \n",
       "4                                                 []   0+  2020  "
      ]
     },
     "execution_count": 5,
     "metadata": {},
     "output_type": "execute_result"
    }
   ],
   "source": [
    "df.head()"
   ]
  },
  {
   "cell_type": "markdown",
   "id": "536b1a3c",
   "metadata": {},
   "source": [
    "Ответ: 965 rows × 12 columns с учетом удаленного столбца 'Unnamed: 0'"
   ]
  },
  {
   "cell_type": "markdown",
   "id": "8f905e17",
   "metadata": {},
   "source": [
    "### 2.Есть ли в датасете пропуски? (0.5)"
   ]
  },
  {
   "cell_type": "code",
   "execution_count": 17,
   "id": "6be01fc1",
   "metadata": {},
   "outputs": [
    {
     "data": {
      "text/plain": [
       "name               0\n",
       "author             0\n",
       "link               0\n",
       "rating             0\n",
       "rating_count       0\n",
       "review_count       0\n",
       "price              0\n",
       "pages              0\n",
       "pages_count        0\n",
       "text_of_reviews    0\n",
       "age                0\n",
       "year               0\n",
       "dtype: int64"
      ]
     },
     "execution_count": 17,
     "metadata": {},
     "output_type": "execute_result"
    }
   ],
   "source": [
    "df.isnull().sum()"
   ]
  },
  {
   "cell_type": "markdown",
   "id": "4a2d77fb",
   "metadata": {},
   "source": [
    "Ответ: Нет"
   ]
  },
  {
   "cell_type": "markdown",
   "id": "0895b281",
   "metadata": {},
   "source": [
    "### 3.Проверьте типы данных. Если это необходимо, приведите к типам int и float те столбцы, с которыми понадобится работать как с числами. (1)."
   ]
  },
  {
   "cell_type": "code",
   "execution_count": 19,
   "id": "f06ab466",
   "metadata": {},
   "outputs": [
    {
     "data": {
      "text/plain": [
       "name                object\n",
       "author              object\n",
       "link                object\n",
       "rating             float64\n",
       "rating_count         int64\n",
       "review_count         int64\n",
       "price              float64\n",
       "pages               object\n",
       "pages_count          int64\n",
       "text_of_reviews     object\n",
       "age                 object\n",
       "year                 int64\n",
       "dtype: object"
      ]
     },
     "execution_count": 19,
     "metadata": {},
     "output_type": "execute_result"
    }
   ],
   "source": [
    "df.dtypes"
   ]
  },
  {
   "cell_type": "code",
   "execution_count": 24,
   "id": "1a9aa451",
   "metadata": {},
   "outputs": [
    {
     "name": "stderr",
     "output_type": "stream",
     "text": [
      "C:\\Users\\Пользователь\\AppData\\Local\\Temp\\ipykernel_10024\\2114049688.py:1: FutureWarning: The default value of regex will change from True to False in a future version. In addition, single character regular expressions will *not* be treated as literal strings when regex=True.\n",
      "  df['age'] = df['age'].str.replace('+', '').astype(int)\n"
     ]
    },
    {
     "data": {
      "text/html": [
       "<div>\n",
       "<style scoped>\n",
       "    .dataframe tbody tr th:only-of-type {\n",
       "        vertical-align: middle;\n",
       "    }\n",
       "\n",
       "    .dataframe tbody tr th {\n",
       "        vertical-align: top;\n",
       "    }\n",
       "\n",
       "    .dataframe thead th {\n",
       "        text-align: right;\n",
       "    }\n",
       "</style>\n",
       "<table border=\"1\" class=\"dataframe\">\n",
       "  <thead>\n",
       "    <tr style=\"text-align: right;\">\n",
       "      <th></th>\n",
       "      <th>name</th>\n",
       "      <th>author</th>\n",
       "      <th>link</th>\n",
       "      <th>rating</th>\n",
       "      <th>rating_count</th>\n",
       "      <th>review_count</th>\n",
       "      <th>price</th>\n",
       "      <th>pages</th>\n",
       "      <th>pages_count</th>\n",
       "      <th>text_of_reviews</th>\n",
       "      <th>age</th>\n",
       "      <th>year</th>\n",
       "    </tr>\n",
       "  </thead>\n",
       "  <tbody>\n",
       "    <tr>\n",
       "      <th>0</th>\n",
       "      <td>Нейросети начало</td>\n",
       "      <td>Джейд Картер</td>\n",
       "      <td>https://www.litres.ru/book/dzheyd-karter/neyro...</td>\n",
       "      <td>4.9</td>\n",
       "      <td>433</td>\n",
       "      <td>37</td>\n",
       "      <td>690.0</td>\n",
       "      <td>102 стр. 4 иллюстрации</td>\n",
       "      <td>102</td>\n",
       "      <td>['Книга отличная. Давно хотела понять как все ...</td>\n",
       "      <td>12</td>\n",
       "      <td>2023</td>\n",
       "    </tr>\n",
       "    <tr>\n",
       "      <th>1</th>\n",
       "      <td>Python 3 и PyQt 6. Разработка приложений</td>\n",
       "      <td>Николай Прохоренок</td>\n",
       "      <td>https://www.litres.ru/book/vladimir-dronov/pyt...</td>\n",
       "      <td>4.7</td>\n",
       "      <td>3</td>\n",
       "      <td>1</td>\n",
       "      <td>549.0</td>\n",
       "      <td>831 стр.</td>\n",
       "      <td>831</td>\n",
       "      <td>['Большая книга, посвященная реализации графич...</td>\n",
       "      <td>0</td>\n",
       "      <td>2023</td>\n",
       "    </tr>\n",
       "    <tr>\n",
       "      <th>2</th>\n",
       "      <td>Система взаимодействия. Коммуникации в бизнес-...</td>\n",
       "      <td>Е. Ю. Хрусталева</td>\n",
       "      <td>https://www.litres.ru/book/e-u-hrustaleva/sist...</td>\n",
       "      <td>4.3</td>\n",
       "      <td>10</td>\n",
       "      <td>3</td>\n",
       "      <td>250.0</td>\n",
       "      <td>130 стр.</td>\n",
       "      <td>130</td>\n",
       "      <td>['Полезная книга. Есть примеры оповещения поль...</td>\n",
       "      <td>12</td>\n",
       "      <td>2019</td>\n",
       "    </tr>\n",
       "    <tr>\n",
       "      <th>3</th>\n",
       "      <td>Постановка задачи обеспечения автоматизации по...</td>\n",
       "      <td>О. В. Тиханычев</td>\n",
       "      <td>https://www.litres.ru/book/o-v-tihanychev/post...</td>\n",
       "      <td>0.0</td>\n",
       "      <td>0</td>\n",
       "      <td>0</td>\n",
       "      <td>168.0</td>\n",
       "      <td>10 стр.</td>\n",
       "      <td>10</td>\n",
       "      <td>[]</td>\n",
       "      <td>0</td>\n",
       "      <td>2021</td>\n",
       "    </tr>\n",
       "    <tr>\n",
       "      <th>4</th>\n",
       "      <td>Разработка и реализация портальных решений. Пр...</td>\n",
       "      <td>С. В. Маркова</td>\n",
       "      <td>https://www.litres.ru/book/pavel-lukyanov/razr...</td>\n",
       "      <td>0.0</td>\n",
       "      <td>0</td>\n",
       "      <td>0</td>\n",
       "      <td>350.0</td>\n",
       "      <td>166 стр.</td>\n",
       "      <td>166</td>\n",
       "      <td>[]</td>\n",
       "      <td>0</td>\n",
       "      <td>2020</td>\n",
       "    </tr>\n",
       "    <tr>\n",
       "      <th>...</th>\n",
       "      <td>...</td>\n",
       "      <td>...</td>\n",
       "      <td>...</td>\n",
       "      <td>...</td>\n",
       "      <td>...</td>\n",
       "      <td>...</td>\n",
       "      <td>...</td>\n",
       "      <td>...</td>\n",
       "      <td>...</td>\n",
       "      <td>...</td>\n",
       "      <td>...</td>\n",
       "      <td>...</td>\n",
       "    </tr>\n",
       "    <tr>\n",
       "      <th>960</th>\n",
       "      <td>Основы вычислений и программирования в пакете ...</td>\n",
       "      <td>а. ф. задорожный</td>\n",
       "      <td>https://www.litres.ru/book/a-f-zadorozhnyy/osn...</td>\n",
       "      <td>0.0</td>\n",
       "      <td>0</td>\n",
       "      <td>0</td>\n",
       "      <td>676.0</td>\n",
       "      <td>223 стр.</td>\n",
       "      <td>223</td>\n",
       "      <td>[]</td>\n",
       "      <td>0</td>\n",
       "      <td>2023</td>\n",
       "    </tr>\n",
       "    <tr>\n",
       "      <th>961</th>\n",
       "      <td>Справочник Жаркова по проектированию и програм...</td>\n",
       "      <td>Валерий Алексеевич Жарков</td>\n",
       "      <td>https://www.litres.ru/book/valeriy-zharkov-324...</td>\n",
       "      <td>0.0</td>\n",
       "      <td>0</td>\n",
       "      <td>0</td>\n",
       "      <td>990.0</td>\n",
       "      <td>345 стр. 93 иллюстрации</td>\n",
       "      <td>345</td>\n",
       "      <td>[]</td>\n",
       "      <td>12</td>\n",
       "      <td>2023</td>\n",
       "    </tr>\n",
       "    <tr>\n",
       "      <th>962</th>\n",
       "      <td>Применение компьютерных систем моделирования т...</td>\n",
       "      <td>П. А. Кулагин</td>\n",
       "      <td>https://www.litres.ru/book/a-v-mischenko/prime...</td>\n",
       "      <td>0.0</td>\n",
       "      <td>0</td>\n",
       "      <td>0</td>\n",
       "      <td>168.0</td>\n",
       "      <td>16 стр.</td>\n",
       "      <td>16</td>\n",
       "      <td>[]</td>\n",
       "      <td>0</td>\n",
       "      <td>2017</td>\n",
       "    </tr>\n",
       "    <tr>\n",
       "      <th>963</th>\n",
       "      <td>Основы TypeScript (pdf+epub)</td>\n",
       "      <td>Адам Фримен</td>\n",
       "      <td>https://www.litres.ru/book/adam-frimen/osnovy-...</td>\n",
       "      <td>0.0</td>\n",
       "      <td>0</td>\n",
       "      <td>0</td>\n",
       "      <td>699.0</td>\n",
       "      <td>576 стр.</td>\n",
       "      <td>576</td>\n",
       "      <td>[]</td>\n",
       "      <td>16</td>\n",
       "      <td>2023</td>\n",
       "    </tr>\n",
       "    <tr>\n",
       "      <th>964</th>\n",
       "      <td>Идентификация типа файла на основе структурног...</td>\n",
       "      <td>А. С. Федулов</td>\n",
       "      <td>https://www.litres.ru/book/a-e-antonov/identif...</td>\n",
       "      <td>0.0</td>\n",
       "      <td>0</td>\n",
       "      <td>0</td>\n",
       "      <td>96.0</td>\n",
       "      <td>10 стр.</td>\n",
       "      <td>10</td>\n",
       "      <td>[]</td>\n",
       "      <td>0</td>\n",
       "      <td>2013</td>\n",
       "    </tr>\n",
       "  </tbody>\n",
       "</table>\n",
       "<p>965 rows × 12 columns</p>\n",
       "</div>"
      ],
      "text/plain": [
       "                                                  name  \\\n",
       "0                                     Нейросети начало   \n",
       "1             Python 3 и PyQt 6. Разработка приложений   \n",
       "2    Система взаимодействия. Коммуникации в бизнес-...   \n",
       "3    Постановка задачи обеспечения автоматизации по...   \n",
       "4    Разработка и реализация портальных решений. Пр...   \n",
       "..                                                 ...   \n",
       "960  Основы вычислений и программирования в пакете ...   \n",
       "961  Справочник Жаркова по проектированию и програм...   \n",
       "962  Применение компьютерных систем моделирования т...   \n",
       "963                       Основы TypeScript (pdf+epub)   \n",
       "964  Идентификация типа файла на основе структурног...   \n",
       "\n",
       "                        author  \\\n",
       "0                 Джейд Картер   \n",
       "1           Николай Прохоренок   \n",
       "2             Е. Ю. Хрусталева   \n",
       "3              О. В. Тиханычев   \n",
       "4                С. В. Маркова   \n",
       "..                         ...   \n",
       "960           а. ф. задорожный   \n",
       "961  Валерий Алексеевич Жарков   \n",
       "962              П. А. Кулагин   \n",
       "963                Адам Фримен   \n",
       "964              А. С. Федулов   \n",
       "\n",
       "                                                  link  rating  rating_count  \\\n",
       "0    https://www.litres.ru/book/dzheyd-karter/neyro...     4.9           433   \n",
       "1    https://www.litres.ru/book/vladimir-dronov/pyt...     4.7             3   \n",
       "2    https://www.litres.ru/book/e-u-hrustaleva/sist...     4.3            10   \n",
       "3    https://www.litres.ru/book/o-v-tihanychev/post...     0.0             0   \n",
       "4    https://www.litres.ru/book/pavel-lukyanov/razr...     0.0             0   \n",
       "..                                                 ...     ...           ...   \n",
       "960  https://www.litres.ru/book/a-f-zadorozhnyy/osn...     0.0             0   \n",
       "961  https://www.litres.ru/book/valeriy-zharkov-324...     0.0             0   \n",
       "962  https://www.litres.ru/book/a-v-mischenko/prime...     0.0             0   \n",
       "963  https://www.litres.ru/book/adam-frimen/osnovy-...     0.0             0   \n",
       "964  https://www.litres.ru/book/a-e-antonov/identif...     0.0             0   \n",
       "\n",
       "     review_count  price                    pages  pages_count  \\\n",
       "0              37  690.0   102 стр. 4 иллюстрации          102   \n",
       "1               1  549.0                831 стр.           831   \n",
       "2               3  250.0                130 стр.           130   \n",
       "3               0  168.0                 10 стр.            10   \n",
       "4               0  350.0                166 стр.           166   \n",
       "..            ...    ...                      ...          ...   \n",
       "960             0  676.0                223 стр.           223   \n",
       "961             0  990.0  345 стр. 93 иллюстрации          345   \n",
       "962             0  168.0                 16 стр.            16   \n",
       "963             0  699.0                576 стр.           576   \n",
       "964             0   96.0                 10 стр.            10   \n",
       "\n",
       "                                       text_of_reviews  age  year  \n",
       "0    ['Книга отличная. Давно хотела понять как все ...   12  2023  \n",
       "1    ['Большая книга, посвященная реализации графич...    0  2023  \n",
       "2    ['Полезная книга. Есть примеры оповещения поль...   12  2019  \n",
       "3                                                   []    0  2021  \n",
       "4                                                   []    0  2020  \n",
       "..                                                 ...  ...   ...  \n",
       "960                                                 []    0  2023  \n",
       "961                                                 []   12  2023  \n",
       "962                                                 []    0  2017  \n",
       "963                                                 []   16  2023  \n",
       "964                                                 []    0  2013  \n",
       "\n",
       "[965 rows x 12 columns]"
      ]
     },
     "execution_count": 24,
     "metadata": {},
     "output_type": "execute_result"
    }
   ],
   "source": [
    "df['age'] = df['age'].str.replace('+', '').astype(int)\n",
    "df"
   ]
  },
  {
   "cell_type": "markdown",
   "id": "d5cc806e",
   "metadata": {},
   "source": [
    "### 4.Выведите описательные статистики переменных. Ответьте на следующие вопросы:"
   ]
  },
  {
   "cell_type": "markdown",
   "id": "58b3ef3e",
   "metadata": {},
   "source": [
    "Какая медианная цена книги в вашем датасете? (1)"
   ]
  },
  {
   "cell_type": "code",
   "execution_count": 25,
   "id": "0bef4091",
   "metadata": {},
   "outputs": [
    {
     "data": {
      "text/plain": [
       "200.0"
      ]
     },
     "execution_count": 25,
     "metadata": {},
     "output_type": "execute_result"
    }
   ],
   "source": [
    "df['price'].median()"
   ]
  },
  {
   "cell_type": "markdown",
   "id": "9af74dd5",
   "metadata": {},
   "source": [
    "Какое возрастное ограничение встречается чаще всего? (1)"
   ]
  },
  {
   "cell_type": "code",
   "execution_count": 36,
   "id": "aa11c9d7",
   "metadata": {},
   "outputs": [
    {
     "data": {
      "text/plain": [
       "0"
      ]
     },
     "execution_count": 36,
     "metadata": {},
     "output_type": "execute_result"
    }
   ],
   "source": [
    "df['age'].mode()[0]"
   ]
  },
  {
   "cell_type": "code",
   "execution_count": 37,
   "id": "142f85f8",
   "metadata": {},
   "outputs": [
    {
     "data": {
      "text/plain": [
       "age\n",
       "0     622\n",
       "6      16\n",
       "12    177\n",
       "16    144\n",
       "18      6\n",
       "dtype: int64"
      ]
     },
     "execution_count": 37,
     "metadata": {},
     "output_type": "execute_result"
    }
   ],
   "source": [
    "df.groupby('age').size()"
   ]
  },
  {
   "cell_type": "markdown",
   "id": "6973484c",
   "metadata": {},
   "source": [
    "Какое среднее число отзывов в книге? (1)"
   ]
  },
  {
   "cell_type": "code",
   "execution_count": 82,
   "id": "e775c4b4",
   "metadata": {},
   "outputs": [
    {
     "data": {
      "text/plain": [
       "1.6031088082901555"
      ]
     },
     "execution_count": 82,
     "metadata": {},
     "output_type": "execute_result"
    }
   ],
   "source": [
    "df.review_count.mean()"
   ]
  },
  {
   "cell_type": "markdown",
   "id": "5da7243c",
   "metadata": {},
   "source": [
    "Сколько книг имеют оценку ниже 4.25? (1)"
   ]
  },
  {
   "cell_type": "code",
   "execution_count": 49,
   "id": "acdc8105",
   "metadata": {},
   "outputs": [
    {
     "data": {
      "text/plain": [
       "619"
      ]
     },
     "execution_count": 49,
     "metadata": {},
     "output_type": "execute_result"
    }
   ],
   "source": [
    "len(df[df['rating']<4.25])"
   ]
  },
  {
   "cell_type": "code",
   "execution_count": null,
   "id": "324597c9",
   "metadata": {},
   "outputs": [],
   "source": [
    "В каком году было написано больше всего книг из датасета? (1)"
   ]
  },
  {
   "cell_type": "code",
   "execution_count": 42,
   "id": "7e8ea8fd",
   "metadata": {},
   "outputs": [
    {
     "data": {
      "text/plain": [
       "year\n",
       "1985     2\n",
       "1995     2\n",
       "2000     2\n",
       "2002     1\n",
       "2003     3\n",
       "2004     4\n",
       "2005     5\n",
       "2006    28\n",
       "2007    14\n",
       "2008    23\n",
       "2009    33\n",
       "2010    56\n",
       "2011    37\n",
       "2012    46\n",
       "2013    60\n",
       "2014    56\n",
       "2015    45\n",
       "2016    27\n",
       "2017    54\n",
       "2018    47\n",
       "2019    53\n",
       "2020    68\n",
       "2021    91\n",
       "2022    71\n",
       "2023    85\n",
       "2024    52\n",
       "dtype: int64"
      ]
     },
     "execution_count": 42,
     "metadata": {},
     "output_type": "execute_result"
    }
   ],
   "source": [
    "df.groupby('year').size()"
   ]
  },
  {
   "cell_type": "code",
   "execution_count": 43,
   "id": "2556fc5a",
   "metadata": {},
   "outputs": [
    {
     "data": {
      "text/plain": [
       "2021"
      ]
     },
     "execution_count": 43,
     "metadata": {},
     "output_type": "execute_result"
    }
   ],
   "source": [
    "df['year'].mode()[0]"
   ]
  },
  {
   "cell_type": "markdown",
   "id": "4a30ef46",
   "metadata": {},
   "source": [
    "### 5.Если вы работаете с готовым датасетом, то попробуйте \"достать\" из столбца pages количество страниц. Если у вас не получилось, то далее при определении числа страниц пользуйтесь стольцов pages_count. Если вы парсили датасет сами, то вы получаете балл за этот пункт автоматически (1.5)"
   ]
  },
  {
   "cell_type": "code",
   "execution_count": 79,
   "id": "7c566cd8",
   "metadata": {},
   "outputs": [],
   "source": [
    "df['pages_count'] = df['pages'].str.split(' стр.').str[0].astype(int)"
   ]
  },
  {
   "cell_type": "code",
   "execution_count": 80,
   "id": "af833cdd",
   "metadata": {},
   "outputs": [
    {
     "data": {
      "text/plain": [
       "0      102\n",
       "1      831\n",
       "2      130\n",
       "3       10\n",
       "4      166\n",
       "      ... \n",
       "960    223\n",
       "961    345\n",
       "962     16\n",
       "963    576\n",
       "964     10\n",
       "Name: pages_count, Length: 965, dtype: int32"
      ]
     },
     "execution_count": 80,
     "metadata": {},
     "output_type": "execute_result"
    }
   ],
   "source": [
    "df['pages_count'] "
   ]
  },
  {
   "cell_type": "markdown",
   "id": "c9f2695e",
   "metadata": {},
   "source": [
    "### 6.Создайте новое поле is_popular. Значение равно 1, если рейтинг книги не менее 4.6 и при этом у нее не менее 5 отзывов, и 0 в остальных случаях. (1)"
   ]
  },
  {
   "cell_type": "code",
   "execution_count": 85,
   "id": "edef594d",
   "metadata": {},
   "outputs": [],
   "source": [
    "df['is_popular'] = (df['rating'] >= 4.6) & (df['review_count'] >= 5)\n",
    "df['is_popular'] = df['is_popular'].astype(int)"
   ]
  },
  {
   "cell_type": "markdown",
   "id": "6cbf67f3",
   "metadata": {},
   "source": [
    "### 7.Как отличается среднее число страниц среди популярных и непопулярных книг? (2)"
   ]
  },
  {
   "cell_type": "code",
   "execution_count": 89,
   "id": "454f3103",
   "metadata": {},
   "outputs": [
    {
     "data": {
      "text/plain": [
       "380.90625"
      ]
     },
     "execution_count": 89,
     "metadata": {},
     "output_type": "execute_result"
    }
   ],
   "source": [
    "df[df['is_popular']==1]['pages_count'].mean()"
   ]
  },
  {
   "cell_type": "code",
   "execution_count": 90,
   "id": "3ae0c124",
   "metadata": {},
   "outputs": [
    {
     "data": {
      "text/plain": [
       "216.56484458735264"
      ]
     },
     "execution_count": 90,
     "metadata": {},
     "output_type": "execute_result"
    }
   ],
   "source": [
    "df[df['is_popular']==0]['pages_count'].mean()"
   ]
  },
  {
   "cell_type": "markdown",
   "id": "13839e22",
   "metadata": {},
   "source": [
    "У популярных страниц обычно больше"
   ]
  },
  {
   "cell_type": "markdown",
   "id": "2102683f",
   "metadata": {},
   "source": [
    "### 8.Выведите топ-10 книг по числу отзывов. (2)."
   ]
  },
  {
   "cell_type": "code",
   "execution_count": 95,
   "id": "fee6b690",
   "metadata": {},
   "outputs": [
    {
     "data": {
      "text/html": [
       "<div>\n",
       "<style scoped>\n",
       "    .dataframe tbody tr th:only-of-type {\n",
       "        vertical-align: middle;\n",
       "    }\n",
       "\n",
       "    .dataframe tbody tr th {\n",
       "        vertical-align: top;\n",
       "    }\n",
       "\n",
       "    .dataframe thead th {\n",
       "        text-align: right;\n",
       "    }\n",
       "</style>\n",
       "<table border=\"1\" class=\"dataframe\">\n",
       "  <thead>\n",
       "    <tr style=\"text-align: right;\">\n",
       "      <th></th>\n",
       "      <th>name</th>\n",
       "      <th>author</th>\n",
       "      <th>link</th>\n",
       "      <th>rating</th>\n",
       "      <th>rating_count</th>\n",
       "      <th>review_count</th>\n",
       "      <th>price</th>\n",
       "      <th>pages</th>\n",
       "      <th>pages_count</th>\n",
       "      <th>text_of_reviews</th>\n",
       "      <th>age</th>\n",
       "      <th>year</th>\n",
       "      <th>is_popular</th>\n",
       "    </tr>\n",
       "  </thead>\n",
       "  <tbody>\n",
       "    <tr>\n",
       "      <th>0</th>\n",
       "      <td>Нейросети начало</td>\n",
       "      <td>Джейд Картер</td>\n",
       "      <td>https://www.litres.ru/book/dzheyd-karter/neyro...</td>\n",
       "      <td>4.9</td>\n",
       "      <td>433</td>\n",
       "      <td>37</td>\n",
       "      <td>690.0</td>\n",
       "      <td>102 стр. 4 иллюстрации</td>\n",
       "      <td>102</td>\n",
       "      <td>['Книга отличная. Давно хотела понять как все ...</td>\n",
       "      <td>12</td>\n",
       "      <td>2023</td>\n",
       "      <td>1</td>\n",
       "    </tr>\n",
       "    <tr>\n",
       "      <th>775</th>\n",
       "      <td>Теоретический минимум по Computer Science. Все...</td>\n",
       "      <td>Владстон Феррейра Фило</td>\n",
       "      <td>https://www.litres.ru/book/vladston-ferreyra-f...</td>\n",
       "      <td>3.9</td>\n",
       "      <td>94</td>\n",
       "      <td>28</td>\n",
       "      <td>599.0</td>\n",
       "      <td>224 стр.</td>\n",
       "      <td>224</td>\n",
       "      <td>['Прекрасная книга. Рекомендовал и старшим шко...</td>\n",
       "      <td>16</td>\n",
       "      <td>2017</td>\n",
       "      <td>0</td>\n",
       "    </tr>\n",
       "    <tr>\n",
       "      <th>98</th>\n",
       "      <td>#Сам себе программист. Как научиться программи...</td>\n",
       "      <td>Кори Альтхофф</td>\n",
       "      <td>https://www.litres.ru/book/kori-althoff/sam-se...</td>\n",
       "      <td>4.2</td>\n",
       "      <td>128</td>\n",
       "      <td>25</td>\n",
       "      <td>299.0</td>\n",
       "      <td>210 стр.</td>\n",
       "      <td>210</td>\n",
       "      <td>['Отличная книга чтобы начать программировать,...</td>\n",
       "      <td>12</td>\n",
       "      <td>2017</td>\n",
       "      <td>0</td>\n",
       "    </tr>\n",
       "    <tr>\n",
       "      <th>692</th>\n",
       "      <td>Нейросети. Обработка естественного языка</td>\n",
       "      <td>Джейд Картер</td>\n",
       "      <td>https://www.litres.ru/book/dzheyd-karter/neyro...</td>\n",
       "      <td>5.0</td>\n",
       "      <td>377</td>\n",
       "      <td>19</td>\n",
       "      <td>690.0</td>\n",
       "      <td>231 стр. 20 иллюстраций</td>\n",
       "      <td>231</td>\n",
       "      <td>['Отличная серия! Обложки просто кайф. Много п...</td>\n",
       "      <td>12</td>\n",
       "      <td>2023</td>\n",
       "      <td>1</td>\n",
       "    </tr>\n",
       "    <tr>\n",
       "      <th>494</th>\n",
       "      <td>Изучаем Python: программирование игр, визуализ...</td>\n",
       "      <td>Эрик Мэтиз</td>\n",
       "      <td>https://www.litres.ru/book/erik-metiz/izuchaem...</td>\n",
       "      <td>4.3</td>\n",
       "      <td>74</td>\n",
       "      <td>18</td>\n",
       "      <td>699.0</td>\n",
       "      <td>512 стр.</td>\n",
       "      <td>512</td>\n",
       "      <td>['Осторожно, под видом второго издания продает...</td>\n",
       "      <td>16</td>\n",
       "      <td>2021</td>\n",
       "      <td>0</td>\n",
       "    </tr>\n",
       "    <tr>\n",
       "      <th>528</th>\n",
       "      <td>Swift. Основы разработки приложений под iOS, i...</td>\n",
       "      <td>Василий Усов</td>\n",
       "      <td>https://www.litres.ru/book/vasiliy-usov/swift-...</td>\n",
       "      <td>3.1</td>\n",
       "      <td>64</td>\n",
       "      <td>17</td>\n",
       "      <td>499.0</td>\n",
       "      <td>545 стр.</td>\n",
       "      <td>545</td>\n",
       "      <td>['Книга хорошая. Все подробно описано. Единств...</td>\n",
       "      <td>16</td>\n",
       "      <td>2021</td>\n",
       "      <td>0</td>\n",
       "    </tr>\n",
       "    <tr>\n",
       "      <th>89</th>\n",
       "      <td>Облачные технологии. Практическое руководство ...</td>\n",
       "      <td>Джейд Картер</td>\n",
       "      <td>https://www.litres.ru/book/dzheyd-karter/oblac...</td>\n",
       "      <td>5.0</td>\n",
       "      <td>268</td>\n",
       "      <td>17</td>\n",
       "      <td>690.0</td>\n",
       "      <td>212 стр. 5 иллюстраций</td>\n",
       "      <td>212</td>\n",
       "      <td>['Автор не перестает радовать годными книгами....</td>\n",
       "      <td>12</td>\n",
       "      <td>2024</td>\n",
       "      <td>1</td>\n",
       "    </tr>\n",
       "    <tr>\n",
       "      <th>458</th>\n",
       "      <td>Путь лидера</td>\n",
       "      <td>Джейд Картер</td>\n",
       "      <td>https://www.litres.ru/book/anna-kozlovceva/put...</td>\n",
       "      <td>5.0</td>\n",
       "      <td>173</td>\n",
       "      <td>17</td>\n",
       "      <td>199.0</td>\n",
       "      <td>215 стр. 10 иллюстраций</td>\n",
       "      <td>215</td>\n",
       "      <td>['Отличное руководство. Расписан каждый шаг. Д...</td>\n",
       "      <td>12</td>\n",
       "      <td>2023</td>\n",
       "      <td>1</td>\n",
       "    </tr>\n",
       "    <tr>\n",
       "      <th>481</th>\n",
       "      <td>Программирование на C++ в примерах и задачах</td>\n",
       "      <td>Алексей Васильев</td>\n",
       "      <td>https://www.litres.ru/book/aleksey-nikolaevich...</td>\n",
       "      <td>4.0</td>\n",
       "      <td>78</td>\n",
       "      <td>16</td>\n",
       "      <td>419.0</td>\n",
       "      <td>369 стр.</td>\n",
       "      <td>369</td>\n",
       "      <td>['Я купил эту книгу в бумажном виде, прочитав ...</td>\n",
       "      <td>12</td>\n",
       "      <td>2017</td>\n",
       "      <td>0</td>\n",
       "    </tr>\n",
       "    <tr>\n",
       "      <th>947</th>\n",
       "      <td>1С:Программирование для начинающих. Детям и ро...</td>\n",
       "      <td>м. г. радченко</td>\n",
       "      <td>https://www.litres.ru/book/m-g-radchenko/1s-pr...</td>\n",
       "      <td>4.0</td>\n",
       "      <td>64</td>\n",
       "      <td>15</td>\n",
       "      <td>550.0</td>\n",
       "      <td>781 стр.</td>\n",
       "      <td>781</td>\n",
       "      <td>['Эту книгу я бы рекомендовала самой первой к ...</td>\n",
       "      <td>12</td>\n",
       "      <td>2022</td>\n",
       "      <td>0</td>\n",
       "    </tr>\n",
       "  </tbody>\n",
       "</table>\n",
       "</div>"
      ],
      "text/plain": [
       "                                                  name  \\\n",
       "0                                     Нейросети начало   \n",
       "775  Теоретический минимум по Computer Science. Все...   \n",
       "98   #Сам себе программист. Как научиться программи...   \n",
       "692           Нейросети. Обработка естественного языка   \n",
       "494  Изучаем Python: программирование игр, визуализ...   \n",
       "528  Swift. Основы разработки приложений под iOS, i...   \n",
       "89   Облачные технологии. Практическое руководство ...   \n",
       "458                                        Путь лидера   \n",
       "481       Программирование на C++ в примерах и задачах   \n",
       "947  1С:Программирование для начинающих. Детям и ро...   \n",
       "\n",
       "                     author  \\\n",
       "0              Джейд Картер   \n",
       "775  Владстон Феррейра Фило   \n",
       "98            Кори Альтхофф   \n",
       "692            Джейд Картер   \n",
       "494              Эрик Мэтиз   \n",
       "528            Василий Усов   \n",
       "89             Джейд Картер   \n",
       "458            Джейд Картер   \n",
       "481        Алексей Васильев   \n",
       "947          м. г. радченко   \n",
       "\n",
       "                                                  link  rating  rating_count  \\\n",
       "0    https://www.litres.ru/book/dzheyd-karter/neyro...     4.9           433   \n",
       "775  https://www.litres.ru/book/vladston-ferreyra-f...     3.9            94   \n",
       "98   https://www.litres.ru/book/kori-althoff/sam-se...     4.2           128   \n",
       "692  https://www.litres.ru/book/dzheyd-karter/neyro...     5.0           377   \n",
       "494  https://www.litres.ru/book/erik-metiz/izuchaem...     4.3            74   \n",
       "528  https://www.litres.ru/book/vasiliy-usov/swift-...     3.1            64   \n",
       "89   https://www.litres.ru/book/dzheyd-karter/oblac...     5.0           268   \n",
       "458  https://www.litres.ru/book/anna-kozlovceva/put...     5.0           173   \n",
       "481  https://www.litres.ru/book/aleksey-nikolaevich...     4.0            78   \n",
       "947  https://www.litres.ru/book/m-g-radchenko/1s-pr...     4.0            64   \n",
       "\n",
       "     review_count  price                    pages  pages_count  \\\n",
       "0              37  690.0   102 стр. 4 иллюстрации          102   \n",
       "775            28  599.0                224 стр.           224   \n",
       "98             25  299.0                210 стр.           210   \n",
       "692            19  690.0  231 стр. 20 иллюстраций          231   \n",
       "494            18  699.0                512 стр.           512   \n",
       "528            17  499.0                545 стр.           545   \n",
       "89             17  690.0   212 стр. 5 иллюстраций          212   \n",
       "458            17  199.0  215 стр. 10 иллюстраций          215   \n",
       "481            16  419.0                369 стр.           369   \n",
       "947            15  550.0                781 стр.           781   \n",
       "\n",
       "                                       text_of_reviews  age  year  is_popular  \n",
       "0    ['Книга отличная. Давно хотела понять как все ...   12  2023           1  \n",
       "775  ['Прекрасная книга. Рекомендовал и старшим шко...   16  2017           0  \n",
       "98   ['Отличная книга чтобы начать программировать,...   12  2017           0  \n",
       "692  ['Отличная серия! Обложки просто кайф. Много п...   12  2023           1  \n",
       "494  ['Осторожно, под видом второго издания продает...   16  2021           0  \n",
       "528  ['Книга хорошая. Все подробно описано. Единств...   16  2021           0  \n",
       "89   ['Автор не перестает радовать годными книгами....   12  2024           1  \n",
       "458  ['Отличное руководство. Расписан каждый шаг. Д...   12  2023           1  \n",
       "481  ['Я купил эту книгу в бумажном виде, прочитав ...   12  2017           0  \n",
       "947  ['Эту книгу я бы рекомендовала самой первой к ...   12  2022           0  "
      ]
     },
     "execution_count": 95,
     "metadata": {},
     "output_type": "execute_result"
    }
   ],
   "source": [
    "df.sort_values(by='review_count', ascending=False).head(10)"
   ]
  },
  {
   "cell_type": "markdown",
   "id": "dfe4c625",
   "metadata": {},
   "source": [
    "### 9.Найдите среднюю длину отзыва (в символах). (2)"
   ]
  },
  {
   "cell_type": "code",
   "execution_count": 96,
   "id": "14f0b96d",
   "metadata": {},
   "outputs": [
    {
     "data": {
      "text/plain": [
       "\"['Книга отличная. Давно хотела понять как все работает и какие возможности дают нейросети. В книге удобно и понятно все расписано. А главное сразу практическое применение, код. Теперь можно и свои сети попробовать делать.', 'Если вы хотите начать изучать нейросети, то это то, что вам нужно. Автор очень хорошо объясняет, что такое нейросеть и как она работает. Книга содержит примеры и задания, которые помогут вам углубить свои знания в этой области. Я думаю, что эта книга подойдет для всех, кто интересуется нейросетями, независимо от уровня подготовки.', 'В книге по каждой теме приводятся примеры кода, на которых подробно описан каждый шаг. Это очень удобно. Можно скопировать код и проверить его. ', 'Так же есть фишки, которые потом можно использовать и в других кодах.', 'Примеры кодов, тут их много. Новичок в теме или нет, а основы всегда должны быть под рукой. Очень удобно с электронки, скопировал код, и дальше уже меняешь под себя как надо. И для тех кто только пытается понять, тоже сразу на примерах каждый шаг. Отлично!', 'Это отличное введение в мир нейросетей для начинающих. Я научился многому о том, как работают нейроны, как они связаны в нейросетях, как обучать и применять их для различных задач, таких как классификация, регрессия и кластеризация. Автор ясно и доступно объясняют сложные концепции и методы, используя практические примеры и код. Я рекомендую эту книгу всем, кто хочет понимать, как работают нейросети и как их применять в реальной жизни.']\""
      ]
     },
     "execution_count": 96,
     "metadata": {},
     "output_type": "execute_result"
    }
   ],
   "source": [
    "df.sort_values(by='review_count', ascending=False).head(10)['text_of_reviews'][0]"
   ]
  },
  {
   "cell_type": "code",
   "execution_count": null,
   "id": "729beddc",
   "metadata": {},
   "outputs": [],
   "source": []
  },
  {
   "cell_type": "markdown",
   "id": "08e44636",
   "metadata": {},
   "source": [
    "### 10.Постройте таблицу корреляций числовых переменных. (1) Прокомментируйте результаты. (1)"
   ]
  },
  {
   "cell_type": "code",
   "execution_count": 81,
   "id": "a5145c63",
   "metadata": {},
   "outputs": [
    {
     "name": "stdout",
     "output_type": "stream",
     "text": [
      "                rating  rating_count  review_count     price  pages_count  \\\n",
      "rating        1.000000      0.257016      0.402186  0.410324     0.509376   \n",
      "rating_count  0.257016      1.000000      0.683794  0.208341     0.135824   \n",
      "review_count  0.402186      0.683794      1.000000  0.309463     0.348800   \n",
      "price         0.410324      0.208341      0.309463  1.000000     0.639805   \n",
      "pages_count   0.509376      0.135824      0.348800  0.639805     1.000000   \n",
      "age           0.433156      0.221253      0.352973  0.484190     0.424448   \n",
      "year          0.264318      0.160573      0.165968  0.428793     0.201769   \n",
      "\n",
      "                   age      year  \n",
      "rating        0.433156  0.264318  \n",
      "rating_count  0.221253  0.160573  \n",
      "review_count  0.352973  0.165968  \n",
      "price         0.484190  0.428793  \n",
      "pages_count   0.424448  0.201769  \n",
      "age           1.000000  0.459847  \n",
      "year          0.459847  1.000000  \n"
     ]
    }
   ],
   "source": [
    "print(df.corr())"
   ]
  },
  {
   "cell_type": "markdown",
   "id": "1e0a5964",
   "metadata": {},
   "source": [
    "На цену больше всего влияет кол страниц, на кол отзывов рейтинг книги"
   ]
  },
  {
   "cell_type": "markdown",
   "id": "62ff226b",
   "metadata": {},
   "source": [
    "### 11.Постройте диаграмму рассеяния (scatterplot) количества страниц и количества отзывов. Не забудьте подписать график и оси. (1) Прокомментируйте полученные результаты. (1)"
   ]
  },
  {
   "cell_type": "code",
   "execution_count": 98,
   "id": "9d93ee58",
   "metadata": {},
   "outputs": [
    {
     "data": {
      "text/plain": [
       "<AxesSubplot:xlabel='review_count', ylabel='pages_count'>"
      ]
     },
     "execution_count": 98,
     "metadata": {},
     "output_type": "execute_result"
    },
    {
     "data": {
      "image/png": "[encoded data removed]",
      "text/plain": [
       "<Figure size 640x480 with 1 Axes>"
      ]
     },
     "metadata": {},
     "output_type": "display_data"
    }
   ],
   "source": [
    "import seaborn\n",
    " \n",
    " \n",
    "seaborn.set(style='whitegrid')\n",
    " \n",
    "seaborn.scatterplot(y='pages_count', x='review_count', data=df)"
   ]
  },
  {
   "cell_type": "markdown",
   "id": "6c0bff59",
   "metadata": {},
   "source": [
    "У большинства книг мало отзывов, есть три книги с большим кол отзывов, но у них меньше 250 страниц"
   ]
  },
  {
   "cell_type": "markdown",
   "id": "6a87f95b",
   "metadata": {},
   "source": [
    "### 12.Постройте линейный график: по оси Х год, по оси Y количество книг. (1) Прокомментируйте. (1)"
   ]
  },
  {
   "cell_type": "code",
   "execution_count": 107,
   "id": "7d9b852c",
   "metadata": {},
   "outputs": [
    {
     "data": {
      "image/png": "[encoded data removed]",
      "text/plain": [
       "<Figure size 640x480 with 1 Axes>"
      ]
     },
     "metadata": {},
     "output_type": "display_data"
    }
   ],
   "source": [
    "import matplotlib.pyplot as plt\n",
    "\n",
    "\n",
    "\n",
    "plt.plot(sorted(df['year'].unique()), df.groupby(by='year')['name'].count() )\n",
    "\n",
    "\n",
    "plt.title('Количество книг по годам')\n",
    "plt.xlabel('Год')\n",
    "plt.ylabel('Количество книг')\n",
    "plt.grid(True)\n",
    "\n",
    "\n",
    "plt.show()  "
   ]
  },
  {
   "cell_type": "code",
   "execution_count": null,
   "id": "f08e0faa",
   "metadata": {},
   "outputs": [],
   "source": []
  }
 ],
 "metadata": {
  "kernelspec": {
   "display_name": "Python 3 (ipykernel)",
   "language": "python",
   "name": "python3"
  },
  "language_info": {
   "codemirror_mode": {
    "name": "ipython",
    "version": 3
   },
   "file_extension": ".py",
   "mimetype": "text/x-python",
   "name": "python",
   "nbconvert_exporter": "python",
   "pygments_lexer": "ipython3",
   "version": "3.9.13"
  }
 },
 "nbformat": 4,
 "nbformat_minor": 5
}
